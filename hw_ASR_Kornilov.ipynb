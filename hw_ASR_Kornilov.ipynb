{
  "nbformat": 4,
  "nbformat_minor": 0,
  "metadata": {
    "colab": {
      "provenance": [],
      "gpuType": "T4"
    },
    "kernelspec": {
      "name": "python3",
      "display_name": "Python 3"
    },
    "language_info": {
      "name": "python"
    },
    "accelerator": "GPU"
  },
  "cells": [
    {
      "cell_type": "markdown",
      "source": [
        "# HW2: ASR"
      ],
      "metadata": {
        "id": "d5o4rCXgz9i-"
      }
    },
    {
      "cell_type": "markdown",
      "source": [
        "Скачиваем все необходимые библиотеки"
      ],
      "metadata": {
        "id": "V3DBDwYaz3BV"
      }
    },
    {
      "cell_type": "code",
      "source": [
        "%%capture\n",
        "!pip install --upgrade --force-reinstall 'git+https://github.com/ytdl-org/youtube-dl.git'\n",
        "!pip install SpeechRecognition\n",
        "!pip install 'git+https://github.com/openai/whisper.git' soundfile\n",
        "!pip install assemblyai\n",
        "!pip install pocketsphinx\n",
        "!pip install jiwer"
      ],
      "metadata": {
        "id": "V2OPynmagJNU"
      },
      "execution_count": 1,
      "outputs": []
    },
    {
      "cell_type": "markdown",
      "source": [
        "Импорты"
      ],
      "metadata": {
        "id": "HlQajc8v0RJ-"
      }
    },
    {
      "cell_type": "code",
      "source": [
        "import re\n",
        "import jiwer\n",
        "import torch\n",
        "import torchaudio\n",
        "import speech_recognition as sr\n",
        "import assemblyai as aai\n",
        "from transformers import Wav2Vec2Processor, Wav2Vec2ForCTC"
      ],
      "metadata": {
        "id": "vqlqUeXg0Q1O"
      },
      "execution_count": 2,
      "outputs": []
    },
    {
      "cell_type": "markdown",
      "source": [
        "Эталон для субтитров:"
      ],
      "metadata": {
        "id": "ybu4yA5e1NtF"
      }
    },
    {
      "cell_type": "code",
      "source": [
        "golden_subtitles = \\\n",
        "'''\n",
        "Ike was born on Christmas Day in 1642,\n",
        "In England’s bonnie Lincolnshire is where that child grew.\n",
        "At 18 he went off to be at Cambridge University;\n",
        "His passion there for Mathematics grew –\n",
        "In years before the Calculus Priority Dispute.\n",
        "\n",
        "Now, Will was born in Germany when Ike was only three;\n",
        "By 16 he had earned a university degree.\n",
        "In Law he earned an LL.D., then worked awhile in Alchemy;\n",
        "But math was not a path that he pursued –\n",
        "In years before the Calculus Priority Dispute.\n",
        "\n",
        "Cambridge halls were closed by plague in 1665;\n",
        "So Ike returned to Lincolnshire with fresh and fertile mind.\n",
        "For two years he worked avidly on Calculus and gravity\n",
        "But of his thoughts he published just a few –\n",
        "A fault that spawned the Calculus Priority Dispute.\n",
        "\n",
        "Issac shared his opus with his Cambridge teacher-friend\n",
        "Who sent it to another to show what his pupil penned.\n",
        "When Willie met this second guy, Ike’s manuscript did he espy;\n",
        "The notes he took would tarnish his repute –\n",
        "And further fuel the Calculus Priority Dispute.\n",
        "\n",
        "The learned British army pledged allegiance to their man\n",
        "While Willie earned support from other nations in the land.\n",
        "And mud was slung by either side, defending Ike or Willie’s pride\n",
        "As Europe’s academic battle brewed –\n",
        "The continental Calculus Priority Dispute.\n",
        "\n",
        "Responding to suggestions that Will’s honour was corrupt\n",
        "He asked the Royal Society to clear the matter up.\n",
        "That jury was presided by none other than that Newton guy;\n",
        "The def’rence of the group was absolute –\n",
        "Which added to the Calculus Priority Dispute.\n",
        "\n",
        "Now, Willie spent his final years just trying to clear his name;\n",
        "Emotionally damaged from this vengeful, bitter game.\n",
        "I don’t know if he laughed or cried when Isaac heard his “buddy” died,\n",
        "But certainly it gave him an acute –\n",
        "… advantage in the Calculus Priority Dispute.\n",
        "\n",
        "The scoreboard on this battlefield with centuries traversed\n",
        "Says Will worked independently but Isaac got there first;\n",
        "Though Willie clearly takes the prize for symbolism he devised.\n",
        "When all the points are tallied, most conclude:\n",
        "Two winners in the Calculus Priority Dispute.\n",
        "\n",
        "When all the points are tallied, most conclude:\n",
        "Two winners in the Calculus Priority Dispute.\n",
        "'''"
      ],
      "metadata": {
        "id": "CKiMC4MO1M-6"
      },
      "execution_count": 3,
      "outputs": []
    },
    {
      "cell_type": "markdown",
      "source": [
        "В эталоне меняем символ переноса строки на пробел:"
      ],
      "metadata": {
        "id": "BgG11z8m1YzA"
      }
    },
    {
      "cell_type": "code",
      "source": [
        "golden_subtitles = golden_subtitles.replace('\\n', ' ')"
      ],
      "metadata": {
        "id": "X1AkRTSn1Th_"
      },
      "execution_count": 4,
      "outputs": []
    },
    {
      "cell_type": "markdown",
      "source": [
        "Инициализируем трансформации для jiwer (нижний регистр, удаление лишних пробелов и пунктуации, токенизация):"
      ],
      "metadata": {
        "id": "7hoBlX8u1pJu"
      }
    },
    {
      "cell_type": "code",
      "source": [
        "transformation = jiwer.Compose([\n",
        "    jiwer.ToLowerCase(),\n",
        "    jiwer.RemoveMultipleSpaces(),\n",
        "    jiwer.RemovePunctuation(),\n",
        "    jiwer.ReduceToListOfListOfWords(word_delimiter=' ')\n",
        "])"
      ],
      "metadata": {
        "id": "PFCLxo_C1j0z"
      },
      "execution_count": 5,
      "outputs": []
    },
    {
      "cell_type": "markdown",
      "source": [
        "## 1. Youtube Autogenerated"
      ],
      "metadata": {
        "id": "ypv_v2Qz1bWe"
      }
    },
    {
      "cell_type": "markdown",
      "source": [
        "Скачиваем видео с субтитрами с помощью youtube-dl:"
      ],
      "metadata": {
        "id": "a_R3Ai-U0G7D"
      }
    },
    {
      "cell_type": "code",
      "execution_count": 6,
      "metadata": {
        "colab": {
          "base_uri": "https://localhost:8080/"
        },
        "id": "PUdYT8JzfQjT",
        "outputId": "d3e0e645-a0f8-4c38-d372-ba668fe47195"
      },
      "outputs": [
        {
          "output_type": "stream",
          "name": "stdout",
          "text": [
            "[youtube] ryai59Gta-4: Downloading webpage\n",
            "[info] Writing video subtitles to: The Calculus Priority Dispute.en.vtt\n",
            "[dashsegments] Total fragments: 1\n",
            "[download] Destination: The Calculus Priority Dispute.m4a\n",
            "\u001b[K[download] 100% of 3.69MiB in 00:00\n",
            "[ffmpeg] Correcting container in \"The Calculus Priority Dispute.m4a\"\n",
            "[ffmpeg] Destination: The Calculus Priority Dispute.wav\n",
            "Deleting original file The Calculus Priority Dispute.m4a (pass -k to keep)\n"
          ]
        }
      ],
      "source": [
        "!youtube-dl --write-auto-sub -x --audio-format wav --output '%(title)s.%(ext)s' 'https://www.youtube.com/watch?v=ryai59Gta-4'"
      ]
    },
    {
      "cell_type": "markdown",
      "source": [
        "Превращаем vtt формат в одну строку:"
      ],
      "metadata": {
        "id": "Z5sY7IIJ0Tui"
      }
    },
    {
      "cell_type": "code",
      "source": [
        "bad_words = ['-->', '</c>', 'WEBVTT', 'Kind: captions', 'Language: en']\n",
        "\n",
        "youtube_auto_subtitles = ''\n",
        "\n",
        "with open('The Calculus Priority Dispute.en.vtt') as oldfile:\n",
        "    for line in oldfile:\n",
        "        if not any(bad_word in line for bad_word in bad_words):\n",
        "            youtube_auto_subtitles += line.strip('\\n ')\n",
        "\n",
        "youtube_auto_subtitles"
      ],
      "metadata": {
        "colab": {
          "base_uri": "https://localhost:8080/",
          "height": 140
        },
        "id": "bU38d6dFoF1q",
        "outputId": "0b187aa2-3743-49b6-e961-1b5e38f750cf"
      },
      "execution_count": 7,
      "outputs": [
        {
          "output_type": "execute_result",
          "data": {
            "text/plain": [
              "\"Ike was born on Christmas Day in 1642  England's bonny Lincolnshire is where  that child through 18 he'll niversity  his passion there for mathematics in  years before the calculus priority  disputes now loses folding Germany when  I was only 3 by 16 the other the  university degree law he earns and Pell  L leave and worked a while in alchemy  maths is not a path that he pursues  in years before the calculus priority  dispute  Gate Bridge hulls were closed my plague  in 1665 so Mike returned to Lincolnshire  and fresh and fertile mind for two years  he worked avidly on calculus and gravity  and all his thoughts he published just a  few that spawned the calculus priority  dispute Isaac's shared his office with  his shame bridge dear friend who sent it  to another to show what is nubile pen  when Willie met this second guy I expect  you script if he is five the notes we  took with our dish is repute and further  view the calculus priority dispute  learning the British Hartness pledged  allegiance to their hand while million  support from others  [Music]  and but with slung on either side  defending I've only described and Europe  academically the Continental populace  priority dispute  responding to suggestions that wills  honor was corrupt asked the Royal  Society to clear the matter of that jury  was presided by none other than that  Newton died and the deference of the  group was absolute  which added to the calculus priority  dispute  now Willie spent his final years just  trying to clear his name emotionally  damaged from this vengeful bitter get II  don't know if he laughed or cried when  Isaac heard his buddy died but certainly  it gave him an advantage in the calculus  priority dispute the scoreboard on this  paddle filled with centuries traversed  says we'll work independently but Isaac  got there first  Willie clearly takes the prize for  symbolism he devised when all the points  are tallied most conclude two winners in  the calculus priority dispute but all  the points are tallied most punt include  two winners in the calculus priority  dispute  you\""
            ],
            "application/vnd.google.colaboratory.intrinsic+json": {
              "type": "string"
            }
          },
          "metadata": {},
          "execution_count": 7
        }
      ]
    },
    {
      "cell_type": "code",
      "source": [
        "wer_youtube = jiwer.wer(\n",
        "    golden_subtitles,\n",
        "    youtube_auto_subtitles,\n",
        "    truth_transform=transformation,\n",
        "    hypothesis_transform=transformation\n",
        ")\n",
        "print(f'Youtube WER: {wer_youtube}')"
      ],
      "metadata": {
        "colab": {
          "base_uri": "https://localhost:8080/"
        },
        "id": "Ay7Tf0BF1tT8",
        "outputId": "46f61254-bbe4-496c-9bbd-e41adc134a82"
      },
      "execution_count": 8,
      "outputs": [
        {
          "output_type": "stream",
          "name": "stdout",
          "text": [
            "Youtube WER: 0.30578512396694213\n"
          ]
        }
      ]
    },
    {
      "cell_type": "markdown",
      "source": [
        "## 2. Speech Recognition (Whisper)"
      ],
      "metadata": {
        "id": "u1sRPQcp2B8p"
      }
    },
    {
      "cell_type": "code",
      "source": [
        "r = sr.Recognizer()\n",
        "with sr.AudioFile('The Calculus Priority Dispute.wav') as source:\n",
        "    audio = r.record(source)\n",
        "whisper_subtitles = r.recognize_whisper(audio)"
      ],
      "metadata": {
        "id": "ZaHRN8rttYx7"
      },
      "execution_count": 9,
      "outputs": []
    },
    {
      "cell_type": "code",
      "source": [
        "whisper_subtitles"
      ],
      "metadata": {
        "colab": {
          "base_uri": "https://localhost:8080/",
          "height": 140
        },
        "id": "0nMVrDDhwt-Z",
        "outputId": "454eba26-70b7-4b39-d196-d1a95e100609"
      },
      "execution_count": 10,
      "outputs": [
        {
          "output_type": "execute_result",
          "data": {
            "text/plain": [
              "\" I was born on Christmas Day in 1642. England's funny Lincolnshire is where that child grew. 18, he went up to see a Cambridge University. His passion never met the man it grew. In years before the calculus priority dispute. Now, when was born in Germany when I was only three? By sixteen, he had earned the University degree. In Laughy earned and LLD then worked a while in Althamies, but math was not a path that he pursued. In years before the calculus priority dispute. Cambridge halls were closed by plague in 1665. So I returned to Lincolnshire with fresh and fertile mind. For two years he worked avidly on calculus and gravity, but on his thoughts he published just a few. A bump that spawned the calculus priority dispute. Isaac shared his hopeless British teacher friend, sent it to another to show what his pupil had. When Willie met this second guy, I expected his rapid bias by the notes he took with punished his repute. And further fueled the calculus priority dispute. He learned British Army pledge allegiance to their man, while Willie earned support from other nations in the land. And but was blocked by either side, defending Iphone Willie's tribe as Europe's academic family ruled. The continental calculus priority dispute. Responding to suggestions that Will's honor was corrupt, he asked the royal society to clear the matter up. That jury was presided by none other than that new guy, the difference of the group is absolute. Which added to the calculus priority dispute. Now Willie spent his final years just trying to clear his name, emotionally damaged from this vengeful bitter game. I don't know if he laughed or cried when Isaac heard his body died, but certainly it gave him an acute advantage in the calculus priority dispute. The scoreboard on this paddle field with centuries traversed says Will worked independently, but Isaac got there first. Though Willie clearly takes the prize for symbolism he devised when all the points are tallied most conclude. Two winners in the calculus priority dispute. When all the points are tallied most conclude. Two winners in the calculus priority dispute.\""
            ],
            "application/vnd.google.colaboratory.intrinsic+json": {
              "type": "string"
            }
          },
          "metadata": {},
          "execution_count": 10
        }
      ]
    },
    {
      "cell_type": "code",
      "source": [
        "wer_whisper = jiwer.wer(\n",
        "    golden_subtitles,\n",
        "    whisper_subtitles,\n",
        "    truth_transform=transformation,\n",
        "    hypothesis_transform=transformation\n",
        ")\n",
        "print(f'Whisper WER: {wer_whisper}')"
      ],
      "metadata": {
        "colab": {
          "base_uri": "https://localhost:8080/"
        },
        "id": "XRH5Mo1DyrsG",
        "outputId": "58dd4d6a-e389-486d-ed93-5ac927d7bcd8"
      },
      "execution_count": 11,
      "outputs": [
        {
          "output_type": "stream",
          "name": "stdout",
          "text": [
            "Whisper WER: 0.15977961432506887\n"
          ]
        }
      ]
    },
    {
      "cell_type": "markdown",
      "source": [
        "## 3. Speech Recognition (Sphinx)"
      ],
      "metadata": {
        "id": "SIWsug8YkAHz"
      }
    },
    {
      "cell_type": "code",
      "source": [
        "sphinx_subtitles = r.recognize_sphinx(audio)\n",
        "sphinx_subtitles"
      ],
      "metadata": {
        "colab": {
          "base_uri": "https://localhost:8080/",
          "height": 140
        },
        "id": "enrHOGx2kvbr",
        "outputId": "1766bfa6-9005-4a36-d2b9-beff90728f31"
      },
      "execution_count": 12,
      "outputs": [
        {
          "output_type": "execute_result",
          "data": {
            "text/plain": [
              "\"there there there there i was old and you live one evening in finland and i'm at a senior and a year when the white house and manning's it on new year's in london and nile and you can now move all of it and my faith and the and you cannot use them and live while the one man on and in the years only known as thine own needs and now they're none loopholes one way to he of the nine hundred and earn behind year's eve where there are enough to when the listens in and all the long enough and you there in nineteen years the things that bring them to send you one hundred one in the leg believe and an knife and you find you and kind of nine and need new year there there if and a half the one in bought with what i thrive on thigh and you live in them and and and the the cotton in and lyle and there and there's a long time and what what if what time for one side by side of time of death and lives with me and i live on io and you can in lily's it is mine and that is on me and evolution of the family around mood and i'm million a year on our side when i think it is i'm noah it what's the name the name new and that but it is you know the air there there and will in to u. do these you and only the when the nice thing that really early in st one night recently it's up to five month old boy and now the move and lulu says that in it not only needed in their little ones that have a move on and move to limit and how it only needs their pain\""
            ],
            "application/vnd.google.colaboratory.intrinsic+json": {
              "type": "string"
            }
          },
          "metadata": {},
          "execution_count": 12
        }
      ]
    },
    {
      "cell_type": "code",
      "source": [
        "wer_sphinx = jiwer.wer(\n",
        "    golden_subtitles,\n",
        "    sphinx_subtitles,\n",
        "    truth_transform=transformation,\n",
        "    hypothesis_transform=transformation\n",
        ")\n",
        "print(f'Sphinx WER: {wer_sphinx}')"
      ],
      "metadata": {
        "colab": {
          "base_uri": "https://localhost:8080/"
        },
        "id": "PxT-vpYGldS6",
        "outputId": "b9fd7d4f-8846-432a-c1ce-92e47ca93c92"
      },
      "execution_count": 13,
      "outputs": [
        {
          "output_type": "stream",
          "name": "stdout",
          "text": [
            "Sphinx WER: 0.9449035812672176\n"
          ]
        }
      ]
    },
    {
      "cell_type": "markdown",
      "source": [
        "## 4. assemblyai"
      ],
      "metadata": {
        "id": "n1-p24k53Vle"
      }
    },
    {
      "cell_type": "code",
      "source": [
        "aai.settings.api_key = '5469a26468cb4116a27553ee7312881f'\n",
        "\n",
        "transcriber = aai.Transcriber()\n",
        "transcript = transcriber.transcribe('The Calculus Priority Dispute.wav')\n",
        "\n",
        "assemblyai_subtitles = transcript.text\n",
        "assemblyai_subtitles"
      ],
      "metadata": {
        "colab": {
          "base_uri": "https://localhost:8080/",
          "height": 140
        },
        "id": "eyDabOBB46sJ",
        "outputId": "d9b5022d-54f0-4627-b2aa-c05242b894fb"
      },
      "execution_count": 14,
      "outputs": [
        {
          "output_type": "execute_result",
          "data": {
            "text/plain": [
              "\"You. Ike was born on Christmas Day in 1642. England's Bonnie Lincolnshire is where that child grew. At 18, he went off to be at Cambridge University. His passion there for mathematics grew in years before the calculus priority dispute. Now, Will was born in Germany when Ike was only three. By 16 he had earned a university degree in law. He earned an LLD, then worked a while in alchemy. But math was not a path that he pursued. In years before the calculus priority dispute, Cambridge halls were closed by plague in 1665, so Ike returned to Lincolnshire with fresh and fertile mind. For two years he worked avidly on calculus and gravity. But of his thoughts he published just a few a fault that bond the calculus priority dispute Isaac shared his opus with his Cambridge teacher friend, who sent it to another to show what his pupil penned. When Willie met this second guy. Ike's manuscripted pspy, the notes he took would tarnish his repute and further fueled the calculus priority dispute. The learned british army pledged allegiance to their man, while Willie earned support from other nations in the land, and butt was flung by either side, defending I for Willie's pride as Europe's academic battle crude the continental capitalist priority dispute. Responding to suggestions that Wilt's honor was corrupt, he asked the Royal Society to clear the matter up. That jury was presided by none other than that Newton guy. The deference of the group was absolute, which added to the calculus priority dispute. Now Willie spent his final years just trying to clear his name, emotionally damaged from this vengeful, bitter game. I don't know if he laughed or cried when Isaac heard his buddy died, but certainly it gave him an acute advantage in the calculus priority dispute. The scoreboard on this battlefield, with centuries traversed, says Will, worked independently. But Isaac got there first, though Willie clearly takes the prize for symbol ism he devised. When all the points are tallied, most conclude two winners in the calculus priority dispute. When all the points are tallied, most conclude two winners in the calculus priority dispute. Close.\""
            ],
            "application/vnd.google.colaboratory.intrinsic+json": {
              "type": "string"
            }
          },
          "metadata": {},
          "execution_count": 14
        }
      ]
    },
    {
      "cell_type": "code",
      "source": [
        "wer_assemblyai = jiwer.wer(\n",
        "    golden_subtitles,\n",
        "    assemblyai_subtitles,\n",
        "    truth_transform=transformation,\n",
        "    hypothesis_transform=transformation\n",
        ")\n",
        "print(f'assemblyai WER: {wer_assemblyai}')"
      ],
      "metadata": {
        "colab": {
          "base_uri": "https://localhost:8080/"
        },
        "id": "AAz2alFM5uVt",
        "outputId": "a99eb0e3-e1f0-47f9-db4f-f0e87f94c552"
      },
      "execution_count": 15,
      "outputs": [
        {
          "output_type": "stream",
          "name": "stdout",
          "text": [
            "assemblyai WER: 0.06887052341597796\n"
          ]
        }
      ]
    },
    {
      "cell_type": "markdown",
      "source": [
        "Результаты:\n",
        "\n",
        "4: у Sphinx получилась абракадабра (WER ~0.94);\n",
        "\n",
        "3: автоматически сгенерированные YouTube субтитры посредственные по качеству (WER ~31);\n",
        "\n",
        "2: результат Whisper лучше, чем автогенерация YouTube (WER ~0.16);\n",
        "\n",
        "1: результат AssemblyAI почти идеален (очень маленький WER ~0.07)."
      ],
      "metadata": {
        "id": "c4G4HbitsMq3"
      }
    }
  ]
}
